{
 "cells": [
  {
   "cell_type": "markdown",
   "id": "437b1a2a",
   "metadata": {},
   "source": [
    "                                     Iris species prediction\n",
    "                                \n",
    "                                \n",
    "                                \n"
   ]
  },
  {
   "cell_type": "markdown",
   "id": "dca2cb21",
   "metadata": {},
   "source": [
    "Introduction : In this project we are going to predict the species of Iris flower\n"
   ]
  },
  {
   "cell_type": "markdown",
   "id": "b05ec2b0",
   "metadata": {},
   "source": [
    "Step-1: Importing Libraries"
   ]
  },
  {
   "cell_type": "code",
   "execution_count": 1,
   "id": "ef93c15f",
   "metadata": {},
   "outputs": [],
   "source": [
    "import numpy as np\n",
    "\n",
    "import pandas as pd "
   ]
  },
  {
   "cell_type": "markdown",
   "id": "404fbc34",
   "metadata": {},
   "source": [
    "Step-2: Gathering data"
   ]
  },
  {
   "cell_type": "code",
   "execution_count": 2,
   "id": "e86f8014",
   "metadata": {},
   "outputs": [],
   "source": [
    "s=pd.read_csv(\"/home/silpa/Downloads/Iris.csv\")\n"
   ]
  },
  {
   "cell_type": "markdown",
   "id": "00c18a45",
   "metadata": {},
   "source": [
    "step-3: Assigning input and output "
   ]
  },
  {
   "cell_type": "code",
   "execution_count": 3,
   "id": "b3811b06",
   "metadata": {},
   "outputs": [],
   "source": [
    "x=s.iloc[:,1:5].values\n",
    "\n",
    "y=s.iloc[:,-1].values"
   ]
  },
  {
   "cell_type": "markdown",
   "id": "479667ce",
   "metadata": {},
   "source": [
    "Step-4: Modelling"
   ]
  },
  {
   "cell_type": "code",
   "execution_count": 4,
   "id": "b23a6043",
   "metadata": {},
   "outputs": [],
   "source": [
    "from sklearn.model_selection import train_test_split\n",
    "\n",
    "x_train,x_test,y_train,y_test=train_test_split(x,y,test_size=0.30,random_state=40)"
   ]
  },
  {
   "cell_type": "markdown",
   "id": "28601bb0",
   "metadata": {},
   "source": [
    "Normalization"
   ]
  },
  {
   "cell_type": "code",
   "execution_count": 5,
   "id": "aa5246c3",
   "metadata": {},
   "outputs": [],
   "source": [
    "from sklearn.preprocessing import StandardScaler\n",
    "\n",
    "scaler=StandardScaler()\n",
    "\n",
    "scaler.fit(x_train)\n",
    "\n",
    "StandardScaler()\n",
    "\n",
    "x_train=scaler.transform(x_train)\n",
    "\n",
    "x_test=scaler.transform(x_test)"
   ]
  },
  {
   "cell_type": "code",
   "execution_count": 6,
   "id": "670a9c4d",
   "metadata": {},
   "outputs": [
    {
     "name": "stdout",
     "output_type": "stream",
     "text": [
      "['Iris-virginica']\n"
     ]
    }
   ],
   "source": [
    "\n",
    "from sklearn.neighbors import KNeighborsClassifier\n",
    "\n",
    "classifier=KNeighborsClassifier(n_neighbors=5)\n",
    "\n",
    "classifier.fit(x_train,y_train)\n",
    "\n",
    "KNeighborsClassifier()\n",
    "\n",
    "y_pred=classifier.predict(x_test)\n",
    "\n",
    "print(classifier.predict([[5.1,3.5,1.4,0.2]]))"
   ]
  },
  {
   "cell_type": "code",
   "execution_count": 7,
   "id": "cad2dfe8",
   "metadata": {},
   "outputs": [
    {
     "name": "stdout",
     "output_type": "stream",
     "text": [
      "[[16  0  0]\n",
      " [ 0 13  1]\n",
      " [ 0  0 15]]\n",
      "0.9777777777777777\n"
     ]
    }
   ],
   "source": [
    "from sklearn.metrics import classification_report,confusion_matrix,accuracy_score\n",
    "result=confusion_matrix(y_test,y_pred)\n",
    "print(result)\n",
    "accuracy=accuracy_score(y_test,y_pred)\n",
    "print(accuracy)"
   ]
  },
  {
   "cell_type": "code",
   "execution_count": 8,
   "id": "82c1f3a6",
   "metadata": {},
   "outputs": [
    {
     "name": "stdout",
     "output_type": "stream",
     "text": [
      "                 precision    recall  f1-score   support\n",
      "\n",
      "    Iris-setosa       1.00      1.00      1.00        16\n",
      "Iris-versicolor       1.00      0.93      0.96        14\n",
      " Iris-virginica       0.94      1.00      0.97        15\n",
      "\n",
      "       accuracy                           0.98        45\n",
      "      macro avg       0.98      0.98      0.98        45\n",
      "   weighted avg       0.98      0.98      0.98        45\n",
      "\n"
     ]
    }
   ],
   "source": [
    "print(classification_report(y_test,y_pred))"
   ]
  }
 ],
 "metadata": {
  "kernelspec": {
   "display_name": "Python 3 (ipykernel)",
   "language": "python",
   "name": "python3"
  },
  "language_info": {
   "codemirror_mode": {
    "name": "ipython",
    "version": 3
   },
   "file_extension": ".py",
   "mimetype": "text/x-python",
   "name": "python",
   "nbconvert_exporter": "python",
   "pygments_lexer": "ipython3",
   "version": "3.9.12"
  }
 },
 "nbformat": 4,
 "nbformat_minor": 5
}
